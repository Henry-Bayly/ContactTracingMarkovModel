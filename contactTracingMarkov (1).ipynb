{
  "nbformat": 4,
  "nbformat_minor": 0,
  "metadata": {
    "colab": {
      "provenance": []
    },
    "kernelspec": {
      "name": "python3",
      "display_name": "Python 3"
    },
    "language_info": {
      "name": "python"
    }
  },
  "cells": [
    {
      "cell_type": "markdown",
      "source": [
        "## Markov model for estimating the percentage of cases missed as a result of poor contact tracing. "
      ],
      "metadata": {
        "id": "lc6ZoQr6tbD2"
      }
    },
    {
      "cell_type": "code",
      "source": [
        "import numpy as np\n",
        "def probablityGenerator(recieveTesting, truePositive, madeContactPatient, patientNamesContacts, madeContactContacts, contactsTested, truePositiveContact):\n",
        "  ##np.random.uniform(low (inclusive),high (exclusive))\n",
        "  ##We pull from a uniform distribution with a=min(% from lit review) and b=max(% from lit review +0.01) -- to make sure it is inclusive\n",
        "  recieveTestingProb = np.random.uniform(recieveTesting[0],recieveTesting[1])\n",
        "  truePositiveProb = np.random.uniform(truePositive[0],truePositive[1])\n",
        "  madeContactPatientProb = np.random.uniform(madeContactPatient[0],madeContactPatient[1])\n",
        "  patientNamesContactsProb = np.random.uniform(patientNamesContacts[0],patientNamesContacts[1])\n",
        "  madeContactContactsProb = np.random.uniform(madeContactContacts[0],madeContactContacts[1])\n",
        "  contactsTestedProb = np.random.uniform(contactsTested[0],contactsTested[1])\n",
        "  truePositiveContactProb = np.random.uniform(truePositive[0],truePositive[1])\n",
        "  allProbs = [recieveTestingProb, truePositiveProb, madeContactPatientProb, patientNamesContactsProb, madeContactContactsProb, contactsTestedProb, truePositiveProb]\n",
        "  return allProbs"
      ],
      "metadata": {
        "id": "9UkthVv_yXFp"
      },
      "execution_count": 2,
      "outputs": []
    },
    {
      "cell_type": "code",
      "source": [
        "##Simulation for Rapid Test\n",
        "\n",
        "##a=min(% from lit review) and b=max(% from lit review +0.01) -- to make sure it is inclusive\n",
        "percentRealized = []\n",
        "recieveTesting = (0,1)\n",
        "truePositive = (0.57, 0.74)\n",
        "madeContactPatient = (0.41,0.83)\n",
        "patientNamesContacts = (0.17,0.53)\n",
        "madeContactContacts = (0.28,0.86)\n",
        "contactsTested = (0.19,0.46)\n",
        "truePositiveContact = (0.57, 0.74)\n",
        "\n",
        "##Simulate 10,000 times\n",
        "for i in range(10000):\n",
        "  currentProb = 1\n",
        "  probs = probablityGenerator(recieveTesting, truePositive, madeContactPatient, patientNamesContacts, madeContactContacts, contactsTested, truePositiveContact)\n",
        "  ##This step find the cumulative drop off in our known cases (multiplying all the probabilities together)\n",
        "  for j in probs:\n",
        "    currentProb = currentProb*j\n",
        "  percentRealized.append(currentProb)\n",
        "print(np.mean(percentRealized))\n",
        "print(np.var(percentRealized))\n",
        "print(np.mean(percentRealized)+1.96*np.sqrt(np.var(percentRealized)/10000),np.mean(percentRealized)-1.96*np.sqrt(np.var(percentRealized)/10000))"
      ],
      "metadata": {
        "colab": {
          "base_uri": "https://localhost:8080/"
        },
        "id": "u3NDHSol0mub",
        "outputId": "09094f71-35b1-449c-a4d7-640b4caf1ba5"
      },
      "execution_count": null,
      "outputs": [
        {
          "output_type": "stream",
          "name": "stdout",
          "text": [
            "0.008737012666260376\n",
            "5.8813421355007364e-05\n",
            "0.00888732488781185 0.0085867004447089\n"
          ]
        }
      ]
    },
    {
      "cell_type": "code",
      "source": [
        "##Simulation for PCR Test (Assuming 90% true positive rate)\n",
        "\n",
        "##Define the parameters\n",
        "##a=min(% from lit review) and b=max(% from lit review +0.01) -- to make sure it is inclusive\n",
        "percentRealizedHeat = []\n",
        "qualTesting = []\n",
        "qualContactTracing = []\n",
        "recieveTesting = (0,1)\n",
        "truePositive = (0.88, 0.92)\n",
        "madeContactPatient = (0.41,0.83)\n",
        "patientNamesContacts = (0.17,0.53)\n",
        "madeContactContacts = (0.28,0.86)\n",
        "contactsTested = (0.19,0.46)\n",
        "truePositiveContact = (0.88, 0.92)\n",
        "\n",
        "##Simulate 10,000 times\n",
        "for i in range(10000):\n",
        "  currentProb = 1\n",
        "  currQual = 1\n",
        "  currTest = 1\n",
        "  probs = probablityGenerator(recieveTesting, truePositive, madeContactPatient,patientNamesContacts, madeContactContacts, contactsTested, truePositiveContact)\n",
        "  ##This step find the cumulative drop off in our known cases (multiplying all the probabilities together)\n",
        "  for j in range(len(probs)):\n",
        "    if (j== 0 or j==1 or j == 5 or j ==6):\n",
        "      currTest = currTest*probs[j]\n",
        "    if (j==2 or j ==3 or j==4):\n",
        "      currQual = currQual*probs[j]\n",
        "    currentProb = currentProb*probs[j]\n",
        "  percentRealizedHeat.append(currentProb)\n",
        "  qualTesting.append(currQual)\n",
        "  qualContactTracing.append(currTest)\n",
        "print(np.mean(percentRealizedHeat))\n",
        "print(np.var(percentRealizedHeat))\n",
        "print(np.mean(percentRealizedHeat)+1.96*np.sqrt(np.var(percentRealizedHeat)/10000),np.mean(percentRealizedHeat)-1.96*np.sqrt(np.var(percentRealizedHeat)/10000))\n",
        "print('end relevant')\n",
        "print(np.mean(qualContactTracing))\n",
        "print(np.mean(qualTesting))\n",
        "print(np.var(qualContactTracing))\n",
        "print(np.var(qualTesting))\n",
        "\n",
        "upBoundQualContactAmerica = np.mean(qualContactTracing) + np.var(qualContactTracing)\n",
        "lowBoundQualContactAmerica = np.mean(qualContactTracing) - np.var(qualContactTracing)\n",
        "upBoundQualTestingAmerica = np.mean(qualTesting) + np.var(qualTesting)\n",
        "lowBoundQualTestingAmerica = np.mean(qualTesting) - np.var(qualTesting)"
      ],
      "metadata": {
        "colab": {
          "base_uri": "https://localhost:8080/"
        },
        "id": "miPfLOC41_rN",
        "outputId": "1303ac42-4915-4b94-fae8-2832f941ffe4"
      },
      "execution_count": null,
      "outputs": [
        {
          "output_type": "stream",
          "name": "stdout",
          "text": [
            "0.016396255101229086\n",
            "0.0002009869989408931\n",
            "0.016674124073072172 0.016118386129386\n",
            "end relevant\n",
            "0.13174001527211626\n",
            "0.12367211319968813\n",
            "0.007124741687339042\n",
            "0.0034949700870205887\n"
          ]
        }
      ]
    },
    {
      "cell_type": "code",
      "source": [
        "##Hypothesized Values for Stricter Contact Tracing\n",
        "##Simulation for PCR Test (Assuming 90% true positive rate)\n",
        "\n",
        "##Define the parameters\n",
        "##a=min(% from lit review) and b=max(% from lit review +0.01) -- to make sure it is inclusive\n",
        "percentRealizedHeat = []\n",
        "qualTesting = []\n",
        "qualContactTracing = []\n",
        "recieveTesting = (0.9,1)\n",
        "truePositive = (0.88, 0.92)\n",
        "madeContactPatient = (0.9,1)\n",
        "patientNamesContacts = (0.9,1)\n",
        "madeContactContacts = (0.9,1)\n",
        "contactsTested = (0.9,1)\n",
        "truePositiveContact = (0.88, 0.92)\n",
        "\n",
        "##Simulate 10,000 times\n",
        "for i in range(10000):\n",
        "  currentProb = 1\n",
        "  currQual = 1\n",
        "  currTest = 1\n",
        "  probs = probablityGenerator(recieveTesting, truePositive, madeContactPatient,patientNamesContacts, madeContactContacts, contactsTested, truePositiveContact)\n",
        "  ##This step find the cumulative drop off in our known cases (multiplying all the probabilities together)\n",
        "  for j in range(len(probs)):\n",
        "    if (j== 0 or j==1 or j == 5 or j ==6):\n",
        "      currTest = currTest*probs[j]\n",
        "    if (j==2 or j ==3 or j==4):\n",
        "      currQual = currQual*probs[j]\n",
        "    currentProb = currentProb*probs[j]\n",
        "  percentRealizedHeat.append(currentProb)\n",
        "  qualTesting.append(currQual)\n",
        "  qualContactTracing.append(currTest)\n",
        "print(np.mean(percentRealizedHeat))\n",
        "print(np.var(percentRealizedHeat))\n",
        "print(np.mean(percentRealizedHeat)+1.96*np.sqrt(np.var(percentRealizedHeat)/10000),np.mean(percentRealizedHeat)-1.96*np.sqrt(np.var(percentRealizedHeat)/10000))\n",
        "print('end relevant')\n",
        "print(np.mean(qualContactTracing))\n",
        "print(np.mean(qualTesting))\n",
        "print(np.var(qualContactTracing))\n",
        "print(np.var(qualTesting))\n",
        "\n",
        "upBoundQualContact = np.mean(qualContactTracing) + np.var(qualContactTracing)\n",
        "lowBoundQualContact = np.mean(qualContactTracing) - np.var(qualContactTracing)\n",
        "upBoundQualTesting = np.mean(qualTesting) + np.var(qualTesting)\n",
        "lowBoundQualTesting = np.mean(qualTesting) - np.var(qualTesting)"
      ],
      "metadata": {
        "colab": {
          "base_uri": "https://localhost:8080/"
        },
        "id": "njdujpSWvGu2",
        "outputId": "b5bd75bd-266b-415f-cbab-b26f190d2c7c"
      },
      "execution_count": null,
      "outputs": [
        {
          "output_type": "stream",
          "name": "stdout",
          "text": [
            "0.6263580729410761\n",
            "0.002097131984162201\n",
            "0.6272556442324151 0.6254605016497372\n",
            "end relevant\n",
            "0.7310549062444267\n",
            "0.8567880555356391\n",
            "0.0013473883780727766\n",
            "0.0020673574005706944\n"
          ]
        }
      ]
    },
    {
      "cell_type": "code",
      "source": [
        "##Sensitivity Analysis for Sweeps\n",
        "##Heatmap \n",
        "\n",
        "##Note - I did this with the PCR Test Assumption - but I don't think it matters\n",
        "\n",
        "import numpy as np\n",
        "import matplotlib.pyplot as plt\n",
        " \n",
        "# Mathematical function we need to plot\n",
        "def z_func(x, y):\n",
        "  return x*y\n",
        "# Setting up input values\n",
        "test = [0.1,0.2,0.3,0.4,0.5,0.6,0.7,0.8,0.9,1.0]\n",
        "x = sorted(test)\n",
        "y = sorted(test)\n",
        "X, Y = np.meshgrid(x, y)\n",
        " \n",
        "# Calculating the output and storing it in the array Z\n",
        "Z = z_func(X, Y)\n",
        "\n",
        "#United States\n",
        "plt.plot([lowBoundQualContactAmerica, upBoundQualContactAmerica], [lowBoundQualTestingAmerica, lowBoundQualTestingAmerica], 'k-', lw=1)\n",
        "plt.plot([lowBoundQualContactAmerica, upBoundQualContactAmerica], [upBoundQualTestingAmerica, upBoundQualTestingAmerica], 'k-', lw=1)\n",
        "plt.plot([lowBoundQualContactAmerica, lowBoundQualContactAmerica], [lowBoundQualTestingAmerica, upBoundQualTestingAmerica], 'k-', lw=1)\n",
        "plt.plot([upBoundQualContactAmerica, upBoundQualContactAmerica], [lowBoundQualTestingAmerica, upBoundQualTestingAmerica], 'k-', lw=1)\n",
        "\n",
        "#East Asian Countries\n",
        "plt.plot([lowBoundQualContact, upBoundQualContact], [lowBoundQualTesting, lowBoundQualTesting], 'k-', lw=1)\n",
        "plt.plot([lowBoundQualContact, upBoundQualContact], [upBoundQualTesting, upBoundQualTesting], 'k-', lw=1)\n",
        "plt.plot([lowBoundQualContact, lowBoundQualContact], [lowBoundQualTesting, upBoundQualTesting], 'k-', lw=1)\n",
        "plt.plot([upBoundQualContact, upBoundQualContact], [lowBoundQualTesting, upBoundQualTesting], 'k-', lw=1)\n",
        "\n",
        "im = plt.imshow(Z, cmap=plt.cm.plasma_r, origin='lower', extent=(0, 1, 0,1), interpolation='bilinear')\n",
        " \n",
        "plt.colorbar(im)\n",
        "\n",
        "\n",
        "plt.title('Quality of Contact Tracing and Testing')\n",
        "plt.xlabel('Quality of Testing')\n",
        "plt.ylabel('Quality of Contact Tracing')"
      ],
      "metadata": {
        "colab": {
          "base_uri": "https://localhost:8080/",
          "height": 312
        },
        "id": "PnUa7UYGV7j8",
        "outputId": "307b42a0-8608-4314-b6d9-1a49faf2c47d"
      },
      "execution_count": null,
      "outputs": [
        {
          "output_type": "execute_result",
          "data": {
            "text/plain": [
              "Text(0, 0.5, 'Quality of Contact Tracing')"
            ]
          },
          "metadata": {},
          "execution_count": 10
        },
        {
          "output_type": "display_data",
          "data": {
            "text/plain": [
              "<Figure size 432x288 with 2 Axes>"
            ],
            "image/png": "[encoded data removed]"
          },
          "metadata": {
            "needs_background": "light"
          }
        }
      ]
    },
    {
      "cell_type": "code",
      "source": [
        "##Hypothesized Values for Stricter Contact Tracing\n",
        "##Simulation for Rapid Test\n",
        "\n",
        "##Define the parameters\n",
        "##a=min(% from lit review) and b=max(% from lit review +0.01) -- to make sure it is inclusive\n",
        "percentRealized = []\n",
        "recieveTesting = (0.9,1)\n",
        "truePositive = (0.57, 0.74)\n",
        "madeContactPatient = (0.9,1)\n",
        "patientNamesContacts = (0.9,1)\n",
        "madeContactContacts = (0.9,1)\n",
        "contactsTested = (0.9,1)\n",
        "truePositiveContact = (0.57, 0.74)\n",
        "\n",
        "##Simulate 10,000 times\n",
        "for i in range(10000):\n",
        "  currentProb = 1\n",
        "  probs = probablityGenerator(recieveTesting, truePositive, madeContactPatient, patientNamesContacts, madeContactContacts, contactsTested, truePositiveContact)\n",
        "  ##This step find the cumulative drop off in our known cases (multiplying all the probabilities together)\n",
        "  for j in probs:\n",
        "    currentProb = currentProb*j\n",
        "  percentRealized.append(currentProb)\n",
        "print(np.mean(percentRealized))\n",
        "print(np.var(percentRealized))\n",
        "print(np.mean(percentRealized)+1.96*np.sqrt(np.var(percentRealized)/10000),np.mean(percentRealized)-1.96*np.sqrt(np.var(percentRealized)/10000))"
      ],
      "metadata": {
        "colab": {
          "base_uri": "https://localhost:8080/"
        },
        "id": "lhohOvo1J6Es",
        "outputId": "a72d8b47-7329-489f-f266-e518127b0024"
      },
      "execution_count": 4,
      "outputs": [
        {
          "output_type": "stream",
          "name": "stdout",
          "text": [
            "0.33468737259521164\n",
            "0.0030118618179326346\n",
            "0.3357630290626663 0.333611716127757\n"
          ]
        }
      ]
    }
  ]
}