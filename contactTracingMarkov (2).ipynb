{
  "nbformat": 4,
  "nbformat_minor": 0,
  "metadata": {
    "colab": {
      "provenance": []
    },
    "kernelspec": {
      "name": "python3",
      "display_name": "Python 3"
    },
    "language_info": {
      "name": "python"
    }
  },
  "cells": [
    {
      "cell_type": "markdown",
      "source": [
        "## Markov model for estimating the percentage of cases missed as a result of poor contact tracing. "
      ],
      "metadata": {
        "id": "lc6ZoQr6tbD2"
      }
    },
    {
      "cell_type": "code",
      "source": [
        "import numpy as np\n",
        "def probablityGenerator(recieveTesting, truePositive, madeContactPatient, patientNamesContacts, madeContactContacts, contactsTested, truePositiveContact):\n",
        "  ##np.random.uniform(low (inclusive),high (exclusive))\n",
        "  ##We pull from a uniform distribution with a=min(% from lit review) and b=max(% from lit review +0.01) -- to make sure it is inclusive\n",
        "  recieveTestingProb = np.random.uniform(recieveTesting[0],recieveTesting[1])\n",
        "  truePositiveProb = np.random.uniform(truePositive[0],truePositive[1])\n",
        "  madeContactPatientProb = np.random.uniform(madeContactPatient[0],madeContactPatient[1])\n",
        "  patientNamesContactsProb = np.random.uniform(patientNamesContacts[0],patientNamesContacts[1])\n",
        "  madeContactContactsProb = np.random.uniform(madeContactContacts[0],madeContactContacts[1])\n",
        "  contactsTestedProb = np.random.uniform(contactsTested[0],contactsTested[1])\n",
        "  truePositiveContactProb = np.random.uniform(truePositive[0],truePositive[1])\n",
        "  allProbs = [recieveTestingProb, truePositiveProb, madeContactPatientProb, patientNamesContactsProb, madeContactContactsProb, contactsTestedProb, truePositiveProb]\n",
        "  return allProbs"
      ],
      "metadata": {
        "id": "9UkthVv_yXFp"
      },
      "execution_count": null,
      "outputs": []
    },
    {
      "cell_type": "code",
      "source": [
        "##Simulation for Rapid Test\n",
        "\n",
        "##a=min(% from lit review) and b=max(% from lit review +0.01) -- to make sure it is inclusive\n",
        "percentRealized = []\n",
        "recieveTesting = (0,1)\n",
        "truePositive = (0.57, 0.74)\n",
        "madeContactPatient = (0.41,0.83)\n",
        "patientNamesContacts = (0.17,0.53)\n",
        "madeContactContacts = (0.28,0.86)\n",
        "contactsTested = (0.19,0.46)\n",
        "truePositiveContact = (0.57, 0.74)\n",
        "\n",
        "phaseOneProbs = []\n",
        "phaseTwoProbs = []\n",
        "phaseThreeProbs = []\n",
        "\n",
        "##Simulate 10,000 times\n",
        "for i in range(10000):\n",
        "  currentProb = 1\n",
        "  probs = probablityGenerator(recieveTesting, truePositive, madeContactPatient, patientNamesContacts, madeContactContacts, contactsTested, truePositiveContact)\n",
        "  phaseOneCurrProb = 1\n",
        "  phaseTwoCurrProb = 1\n",
        "  phaseThreeCurrProb = 1\n",
        "  ##This step find the cumulative drop off in our known cases (multiplying all the probabilities together)\n",
        "  for j in range(len(probs)):\n",
        "    currentProb = currentProb*probs[j]\n",
        "    if(j==0 or j==1 or j==2):\n",
        "      phaseOneCurrProb = phaseOneCurrProb*probs[j]\n",
        "    elif(j==3 or j==4):\n",
        "      phaseTwoCurrProb = phaseTwoCurrProb*probs[j]\n",
        "    else:\n",
        "      phaseThreeCurrProb = phaseThreeCurrProb*probs[j]\n",
        "  percentRealized.append(currentProb)\n",
        "  phaseOneProbs.append(phaseOneCurrProb)\n",
        "  phaseTwoProbs.append(phaseTwoCurrProb)\n",
        "  phaseThreeProbs.append(phaseThreeCurrProb)\n",
        "\n",
        "print(np.mean(percentRealized))\n",
        "print(np.var(percentRealized))\n",
        "print(np.mean(percentRealized)+1.96*np.sqrt(np.var(percentRealized)/10000),np.mean(percentRealized)-1.96*np.sqrt(np.var(percentRealized)/10000))\n",
        "\n",
        "print('Phase 1: ', np.mean(phaseOneProbs))\n",
        "print('Phase 2: ', np.mean(phaseTwoProbs))\n",
        "print('Phase 3: ', np.mean(phaseThreeProbs))"
      ],
      "metadata": {
        "colab": {
          "base_uri": "https://localhost:8080/"
        },
        "id": "u3NDHSol0mub",
        "outputId": "58b2f464-9915-42d1-f5a5-1d1293ea6c77"
      },
      "execution_count": null,
      "outputs": [
        {
          "output_type": "stream",
          "name": "stdout",
          "text": [
            "0.008617514773107671\n",
            "5.800141663475389e-05\n",
            "0.008766785748901385 0.008468243797313958\n",
            "Phase 1:  0.20173863828736446\n",
            "Phase 2:  0.20018993843037874\n",
            "Phase 3:  0.21205392534504164\n"
          ]
        }
      ]
    },
    {
      "cell_type": "code",
      "source": [
        "##Simulation for PCR Test (Assuming 90% true positive rate)\n",
        "\n",
        "##Define the parameters\n",
        "##a=min(% from lit review) and b=max(% from lit review +0.01) -- to make sure it is inclusive\n",
        "percentRealizedHeat = []\n",
        "qualTestingUS = []\n",
        "qualContactTracingUS = []\n",
        "recieveTesting = (0,1)\n",
        "truePositive = (0.88, 0.92)\n",
        "madeContactPatient = (0.41,0.83)\n",
        "patientNamesContacts = (0.17,0.53)\n",
        "madeContactContacts = (0.28,0.86)\n",
        "contactsTested = (0.19,0.46)\n",
        "truePositiveContact = (0.88, 0.92)\n",
        "\n",
        "\n",
        "phaseOneProbs = []\n",
        "phaseTwoProbs = []\n",
        "phaseThreeProbs = []\n",
        "\n",
        "##Simulate 10,000 times\n",
        "for i in range(10000):\n",
        "  currentProb = 1\n",
        "  currQual = 1\n",
        "  currTest = 1\n",
        "  probs = probablityGenerator(recieveTesting, truePositive, madeContactPatient,patientNamesContacts, madeContactContacts, contactsTested, truePositiveContact)\n",
        "  phaseOneCurrProb = 1\n",
        "  phaseTwoCurrProb = 1\n",
        "  phaseThreeCurrProb = 1\n",
        "  ##This step find the cumulative drop off in our known cases (multiplying all the probabilities together)\n",
        "  for j in range(len(probs)):\n",
        "    if (j== 0 or j==1 or j == 5 or j ==6):\n",
        "      currTest = currTest*probs[j]\n",
        "    if (j==2 or j ==3 or j==4):\n",
        "      currQual = currQual*probs[j]\n",
        "    currentProb = currentProb*probs[j]\n",
        "    if(j==0 or j==1 or j==2):\n",
        "      phaseOneCurrProb = phaseOneCurrProb*probs[j]\n",
        "    elif(j==3 or j==4):\n",
        "      phaseTwoCurrProb = phaseTwoCurrProb*probs[j]\n",
        "    else:\n",
        "      phaseThreeCurrProb = phaseThreeCurrProb*probs[j]\n",
        "  percentRealizedHeat.append(currentProb)\n",
        "  qualTestingUS.append(currQual)\n",
        "  qualContactTracingUS.append(currTest)\n",
        "  phaseOneProbs.append(phaseOneCurrProb)\n",
        "  phaseTwoProbs.append(phaseTwoCurrProb)\n",
        "  phaseThreeProbs.append(phaseThreeCurrProb)\n",
        "print(np.mean(percentRealizedHeat))\n",
        "print(np.var(percentRealizedHeat))\n",
        "print(np.mean(percentRealizedHeat)+1.96*np.sqrt(np.var(percentRealizedHeat)/10000),np.mean(percentRealizedHeat)-1.96*np.sqrt(np.var(percentRealizedHeat)/10000))\n",
        "print('end relevant')\n",
        "print(np.mean(qualContactTracingUS))\n",
        "print(np.mean(qualTestingUS))\n",
        "\n",
        "\n",
        "upBoundQualContactAmerica = np.mean(qualContactTracingUS) + np.var(qualContactTracingUS)\n",
        "lowBoundQualContactAmerica = np.mean(qualContactTracingUS) - np.var(qualContactTracingUS)\n",
        "upBoundQualTestingAmerica = np.mean(qualTestingUS) + np.var(qualTestingUS)\n",
        "lowBoundQualTestingAmerica = np.mean(qualTestingUS) - np.var(qualTestingUS)\n",
        "\n",
        "print('Phase 1: ', np.mean(phaseOneProbs))\n",
        "print('Phase 2: ', np.mean(phaseTwoProbs))\n",
        "print('Phase 3: ', np.mean(phaseThreeProbs))"
      ],
      "metadata": {
        "colab": {
          "base_uri": "https://localhost:8080/"
        },
        "id": "miPfLOC41_rN",
        "outputId": "0e6a0dca-53e1-47e1-b659-053d01338a1a"
      },
      "execution_count": null,
      "outputs": [
        {
          "output_type": "stream",
          "name": "stdout",
          "text": [
            "0.016232546202254422\n",
            "0.0001919208122176143\n",
            "0.016504075757223156 0.01596101664728569\n",
            "end relevant\n",
            "0.13222993374934694\n",
            "0.12301555678506372\n",
            "Phase 1:  0.2793246509178265\n",
            "Phase 2:  0.1988407537092472\n",
            "Phase 3:  0.2927617327034535\n"
          ]
        }
      ]
    },
    {
      "cell_type": "code",
      "source": [
        "##Hypothesized Values for Stricter Contact Tracing\n",
        "##Simulation for PCR Test (Assuming 90% true positive rate)\n",
        "\n",
        "##Define the parameters\n",
        "##a=min(% from lit review) and b=max(% from lit review +0.01) -- to make sure it is inclusive\n",
        "percentRealizedHeat = []\n",
        "qualTesting = []\n",
        "qualContactTracing = []\n",
        "recieveTesting = (0.9,1)\n",
        "truePositive = (0.88, 0.92)\n",
        "madeContactPatient = (0.9,1)\n",
        "patientNamesContacts = (0.9,1)\n",
        "madeContactContacts = (0.9,1)\n",
        "contactsTested = (0.9,1)\n",
        "truePositiveContact = (0.88, 0.92)\n",
        "\n",
        "##Simulate 10,000 times\n",
        "for i in range(10000):\n",
        "  currentProb = 1\n",
        "  currQual = 1\n",
        "  currTest = 1\n",
        "  probs = probablityGenerator(recieveTesting, truePositive, madeContactPatient,patientNamesContacts, madeContactContacts, contactsTested, truePositiveContact)\n",
        "  ##This step find the cumulative drop off in our known cases (multiplying all the probabilities together)\n",
        "  for j in range(len(probs)):\n",
        "    if (j== 0 or j==1 or j == 5 or j ==6):\n",
        "      currTest = currTest*probs[j]\n",
        "    if (j==2 or j ==3 or j==4):\n",
        "      currQual = currQual*probs[j]\n",
        "    currentProb = currentProb*probs[j]\n",
        "  percentRealizedHeat.append(currentProb)\n",
        "  qualTesting.append(currQual)\n",
        "  qualContactTracing.append(currTest)\n",
        "print(np.mean(percentRealizedHeat))\n",
        "print(np.var(percentRealizedHeat))\n",
        "print(np.mean(percentRealizedHeat)+1.96*np.sqrt(np.var(percentRealizedHeat)/10000),np.mean(percentRealizedHeat)-1.96*np.sqrt(np.var(percentRealizedHeat)/10000))\n",
        "print('end relevant')\n",
        "print(np.mean(qualContactTracing))\n",
        "print(np.mean(qualTesting))\n",
        "print(np.var(qualContactTracing))\n",
        "print(np.var(qualTesting))\n",
        "\n",
        "upBoundQualContact = np.mean(qualContactTracing) + np.var(qualContactTracing)\n",
        "lowBoundQualContact = np.mean(qualContactTracing) - np.var(qualContactTracing)\n",
        "upBoundQualTesting = np.mean(qualTesting) + np.var(qualTesting)\n",
        "lowBoundQualTesting = np.mean(qualTesting) - np.var(qualTesting)"
      ],
      "metadata": {
        "colab": {
          "base_uri": "https://localhost:8080/"
        },
        "id": "njdujpSWvGu2",
        "outputId": "565521ca-85b7-453d-9407-d62a5560db7f"
      },
      "execution_count": null,
      "outputs": [
        {
          "output_type": "stream",
          "name": "stdout",
          "text": [
            "0.6271656062999448\n",
            "0.0021094873431295067\n",
            "0.6280658177516252 0.6262653948482644\n",
            "end relevant\n",
            "0.7317105518541961\n",
            "0.8570840828526641\n",
            "0.0013426920905995276\n",
            "0.0020325035687313287\n"
          ]
        }
      ]
    },
    {
      "cell_type": "code",
      "source": [
        "##Sensitivity Analysis for Sweeps\n",
        "##Heatmap \n",
        "\n",
        "##Note - I did this with the PCR Test Assumption - but I don't think it matters\n",
        "\n",
        "import numpy as np\n",
        "import matplotlib.pyplot as plt\n",
        " \n",
        "# Mathematical function we need to plot\n",
        "def z_func(x, y):\n",
        "  return x*y\n",
        "# Setting up input values\n",
        "test = [0.1,0.2,0.3,0.4,0.5,0.6,0.7,0.8,0.9,1.0]\n",
        "x = sorted(test)\n",
        "y = sorted(test)\n",
        "X, Y = np.meshgrid(x, y)\n",
        " \n",
        "# Calculating the output and storing it in the array Z\n",
        "Z = z_func(X, Y)\n",
        "\n",
        "#United States\n",
        "plt.plot([np.mean(qualTestingUS)],[np.mean(qualContactTracingUS)],marker=\"o\", markersize=5, markeredgecolor=\"blue\",markerfacecolor=\"blue\")\n",
        "\n",
        "\n",
        "#South Korea / Taiwan \n",
        "plt.plot([np.mean(qualTesting)],[np.mean(qualContactTracing)],marker=\"o\", markersize=5, markeredgecolor=\"white\", markerfacecolor=\"white\")\n",
        "\n",
        "im = plt.imshow(Z, cmap=plt.cm.plasma_r, origin='lower', extent=(0, 1, 0,1), interpolation='bilinear')\n",
        " \n",
        "plt.colorbar(im)\n",
        "\n",
        "\n",
        "plt.title('Quality of Contact Tracing and Testing')\n",
        "plt.xlabel('Quality of Testing')\n",
        "plt.ylabel('Quality of Contact Tracing')"
      ],
      "metadata": {
        "colab": {
          "base_uri": "https://localhost:8080/",
          "height": 312
        },
        "id": "PnUa7UYGV7j8",
        "outputId": "8e0b3be1-34aa-467f-bd5c-fdd55f94bf09"
      },
      "execution_count": null,
      "outputs": [
        {
          "output_type": "execute_result",
          "data": {
            "text/plain": [
              "Text(0, 0.5, 'Quality of Contact Tracing')"
            ]
          },
          "metadata": {},
          "execution_count": 28
        },
        {
          "output_type": "display_data",
          "data": {
            "text/plain": [
              "<Figure size 432x288 with 2 Axes>"
            ],
            "image/png": "[encoded data removed]"
          },
          "metadata": {
            "needs_background": "light"
          }
        }
      ]
    },
    {
      "cell_type": "code",
      "source": [
        "##Hypothesized Values for Stricter Contact Tracing\n",
        "##Simulation for Rapid Test\n",
        "\n",
        "##Define the parameters\n",
        "##a=min(% from lit review) and b=max(% from lit review +0.01) -- to make sure it is inclusive\n",
        "percentRealized = []\n",
        "recieveTesting = (0.9,1)\n",
        "truePositive = (0.57, 0.74)\n",
        "madeContactPatient = (0.9,1)\n",
        "patientNamesContacts = (0.9,1)\n",
        "madeContactContacts = (0.9,1)\n",
        "contactsTested = (0.9,1)\n",
        "truePositiveContact = (0.57, 0.74)\n",
        "\n",
        "##Simulate 10,000 times\n",
        "for i in range(10000):\n",
        "  currentProb = 1\n",
        "  probs = probablityGenerator(recieveTesting, truePositive, madeContactPatient, patientNamesContacts, madeContactContacts, contactsTested, truePositiveContact)\n",
        "  ##This step find the cumulative drop off in our known cases (multiplying all the probabilities together)\n",
        "  for j in probs:\n",
        "    currentProb = currentProb*j\n",
        "  percentRealized.append(currentProb)\n",
        "print(np.mean(percentRealized))\n",
        "print(np.var(percentRealized))\n",
        "print(np.mean(percentRealized)+1.96*np.sqrt(np.var(percentRealized)/10000),np.mean(percentRealized)-1.96*np.sqrt(np.var(percentRealized)/10000))"
      ],
      "metadata": {
        "colab": {
          "base_uri": "https://localhost:8080/"
        },
        "id": "lhohOvo1J6Es",
        "outputId": "a72d8b47-7329-489f-f266-e518127b0024"
      },
      "execution_count": null,
      "outputs": [
        {
          "output_type": "stream",
          "name": "stdout",
          "text": [
            "0.33468737259521164\n",
            "0.0030118618179326346\n",
            "0.3357630290626663 0.333611716127757\n"
          ]
        }
      ]
    }
  ]
}